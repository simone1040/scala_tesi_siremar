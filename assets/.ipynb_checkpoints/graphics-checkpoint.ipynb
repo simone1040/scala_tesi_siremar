{
 "cells": [
  {
   "cell_type": "code",
   "execution_count": 1,
   "metadata": {},
   "outputs": [
    {
     "name": "stdout",
     "output_type": "stream",
     "text": [
      "+-------------------------------+------------------------+----------------------------------+--------------------------------+----------------------------------+\n",
      "|tot_boardingcard_web_route_code|route_cappelli_ship_code|route_cappelli_departure_port_code|route_cappelli_arrival_port_code|route_cappelli_departure_timestamp|\n",
      "+-------------------------------+------------------------+----------------------------------+--------------------------------+----------------------------------+\n",
      "|               PAUS1909300715TX|                      VE|                              PALE|                            USTI|               2019-09-30 07:15:00|\n",
      "|               PAUS1909280830AM|                      AM|                              PALE|                            USTI|               2019-09-28 08:30:00|\n",
      "|               TRLE1909261710SM|                      SM|                              TRAP|                            LEVA|               2019-09-26 17:10:00|\n",
      "|               SAME1909261430CD|                      CD|                              SALE|                            MESS|               2019-09-26 14:30:00|\n",
      "|               VUMI1909211605IS|                      IV|                              VULC|                            MILA|               2019-09-21 16:05:00|\n",
      "+-------------------------------+------------------------+----------------------------------+--------------------------------+----------------------------------+\n",
      "only showing top 5 rows\n",
      "\n"
     ]
    }
   ],
   "source": [
    "from pyspark.sql import SQLContext\n",
    "sc = spark.sparkContext\n",
    "\n",
    "\n",
    "sqlContext = SQLContext(sc)\n",
    "\n",
    "df_route = sqlContext.read.parquet('hdfs://localhost:9000/tesi_siremar/siremar.parquet')\n",
    "df_garage = sqlContext.read.parquet('hdfs://localhost:9000/tesi_siremar/quantity_siremar.parquet')\n",
    "df_garage.show(5)"
   ]
  }
 ],
 "metadata": {
  "kernelspec": {
   "display_name": "Python 2",
   "language": "python",
   "name": "python2"
  },
  "language_info": {
   "codemirror_mode": {
    "name": "ipython",
    "version": 2
   },
   "file_extension": ".py",
   "mimetype": "text/x-python",
   "name": "python",
   "nbconvert_exporter": "python",
   "pygments_lexer": "ipython2",
   "version": "2.7.15+"
  }
 },
 "nbformat": 4,
 "nbformat_minor": 2
}
